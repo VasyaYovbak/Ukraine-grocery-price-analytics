{
 "cells": [
  {
   "cell_type": "code",
   "execution_count": 1,
   "metadata": {},
   "outputs": [],
   "source": [
    "import sys\n",
    "from pathlib import Path\n",
    "\n",
    "parent_dir = Path().resolve().parent\n",
    "\n",
    "# Перевірити, чи вже доданий шлях, і додати його, якщо ні\n",
    "if str(parent_dir) not in sys.path:\n",
    "    sys.path.insert(0, str(parent_dir))\n",
    "\n",
    "parent_dir = str(parent_dir).replace(\"\\\\\", \"/\") + \"/\""
   ]
  },
  {
   "cell_type": "code",
   "execution_count": 2,
   "metadata": {},
   "outputs": [],
   "source": [
    "from pyspark.sql import SparkSession\n",
    "\n",
    "spark = SparkSession.builder.appName(\"eda_ukrainian_price\").getOrCreate()"
   ]
  },
  {
   "cell_type": "markdown",
   "metadata": {},
   "source": [
    "# Ukraine Price Dataset"
   ]
  },
  {
   "cell_type": "code",
   "execution_count": null,
   "metadata": {},
   "outputs": [],
   "source": [
    "from data.schema.ukraine_price_dataset import INITIAL_SCHEMA, UKRAINE_PRICE_INITIAL_COLUMNS\n",
    "\n",
    "csv_file_path = parent_dir + \"data/raw/ukraine_price_dataset.csv\"\n",
    "\n",
    "df = (\n",
    "    spark.read.format(\"csv\")\n",
    "    .option(\"header\", \"true\")\n",
    "    .schema(INITIAL_SCHEMA)\n",
    "    .load(csv_file_path)\n",
    ")"
   ]
  },
  {
   "cell_type": "code",
   "execution_count": 4,
   "metadata": {},
   "outputs": [
    {
     "name": "stdout",
     "output_type": "stream",
     "text": [
      "+--------------------+--------------------+---------------------+--------------------+-------------+--------+----------------------+--------------+-------------+---------------------------+----------------+----------------------+----------------------+\n",
      "|            Показник|     Базисний період|Територіальний розріз|Тип товарів і послуг|Періодичність|  Період|Значення спостереження|Одиниця виміру|Масштабування|Кількість десяткових знаків|Конфіденційність|Примітки часового ряду|Примітки спостереження|\n",
      "+--------------------+--------------------+---------------------+--------------------+-------------+--------+----------------------+--------------+-------------+---------------------------+----------------+----------------------+----------------------+\n",
      "|Базовий індекс сп...|До відповідного м...|              Україна|   Не застосовується|      Місячна|2008-M01|                  NULL|      Відсоток|      Одиниці|                       Один|            NULL|  1. З 2010 року./F...|  1. Відомості відс...|\n",
      "|Базовий індекс сп...|До відповідного м...|              Україна|   Не застосовується|      Місячна|2008-M02|                  NULL|      Відсоток|      Одиниці|                       Один|            NULL|  1. З 2010 року./F...|  1. Відомості відс...|\n",
      "|Базовий індекс сп...|До відповідного м...|              Україна|   Не застосовується|      Місячна|2008-M03|                  NULL|      Відсоток|      Одиниці|                       Один|            NULL|  1. З 2010 року./F...|  1. Відомості відс...|\n",
      "|Базовий індекс сп...|До відповідного м...|              Україна|   Не застосовується|      Місячна|2008-M04|                  NULL|      Відсоток|      Одиниці|                       Один|            NULL|  1. З 2010 року./F...|  1. Відомості відс...|\n",
      "|Базовий індекс сп...|До відповідного м...|              Україна|   Не застосовується|      Місячна|2008-M05|                  NULL|      Відсоток|      Одиниці|                       Один|            NULL|  1. З 2010 року./F...|  1. Відомості відс...|\n",
      "+--------------------+--------------------+---------------------+--------------------+-------------+--------+----------------------+--------------+-------------+---------------------------+----------------+----------------------+----------------------+\n",
      "only showing top 5 rows\n",
      "\n"
     ]
    }
   ],
   "source": [
    "df.show(5)"
   ]
  },
  {
   "cell_type": "markdown",
   "metadata": {},
   "source": [
    "## Extract Metadata Into Columns"
   ]
  },
  {
   "cell_type": "code",
   "execution_count": 5,
   "metadata": {},
   "outputs": [
    {
     "name": "stdout",
     "output_type": "stream",
     "text": [
      "+---------------------------------------------------------------------------------------------------------------------------------------------------------------------------------------------------------------------------------------------------------------------------------------------------------------------------------------------------------------------------------------------------------------------------------------------------------------------------------------------------------------------------------------------------------------------------------------------------------------------------------------------------------------------------------------------------------------------------------------------------------------------------------------------------------------------------------------------------------------------------------------------------------------------------------------------------------------------------------------------------------------------------------------------------------------------------------------------------------------------------------------------------------------------------------------------------------------------------------------------------------------------------------------------------------------------------------------------------------------------------------------------------------------------------------------------------------------------------------------------------------------------------------------------------------------------------------------------------------------------------------------------------------------------------------------------------------------------------------------------------------------------------------------------------------------------------------------------------------------------------------------------------------------------------------------------------------------------------------------------------------------------------------------------------------------------------------------------------------------------------------------------------------------------------------------------------------------------------------------------------------------------------------------------------------------------------------------------------------------------------------------------------------------------------------------------------------------------------------------------+\n",
      "|Примітки часового ряду                                                                                                                                                                                                                                                                                                                                                                                                                                                                                                                                                                                                                                                                                                                                                                                                                                                                                                                                                                                                                                                                                                                                                                                                                                                                                                                                                                                                                                                                                                                                                                                                                                                                                                                                                                                                                                                                                                                                                                                                                                                                                                                                                                                                                                                                                                                                                                                                                                                                       |\n",
      "+---------------------------------------------------------------------------------------------------------------------------------------------------------------------------------------------------------------------------------------------------------------------------------------------------------------------------------------------------------------------------------------------------------------------------------------------------------------------------------------------------------------------------------------------------------------------------------------------------------------------------------------------------------------------------------------------------------------------------------------------------------------------------------------------------------------------------------------------------------------------------------------------------------------------------------------------------------------------------------------------------------------------------------------------------------------------------------------------------------------------------------------------------------------------------------------------------------------------------------------------------------------------------------------------------------------------------------------------------------------------------------------------------------------------------------------------------------------------------------------------------------------------------------------------------------------------------------------------------------------------------------------------------------------------------------------------------------------------------------------------------------------------------------------------------------------------------------------------------------------------------------------------------------------------------------------------------------------------------------------------------------------------------------------------------------------------------------------------------------------------------------------------------------------------------------------------------------------------------------------------------------------------------------------------------------------------------------------------------------------------------------------------------------------------------------------------------------------------------------------------+\n",
      "|1. З 2008 року./From year 2008; 2. Базовий індекс споживчих цін (БІСЦ, базова інфляція) є субіндексом індексу споживчих цін. Його побудова заснована на існуючих методологічних засадах щодо розрахунку індексу споживчих цін. БІСЦ показує стійку динаміку цін із мінімізацією короткострокових нерівномірних змін цін, спричинених шоками пропозиції та адміністративним регулюванням./Core inflation (CI) is a sub-index of the Consumer price indices. Its construction is based on existing methodological principles for calculating the consumer price indices. CI shows stable price dynamics with minimization of short-term uneven price changes caused by supply shocks and administrative regulation; 3. Базовий індекс споживчих цін до відповідного періоду попереднього року розраховуються за звітний період поточного року до відповідного періоду попереднього року (січень, січень-лютий, …, січень-листопад, січень-грудень)./'Core inflation to the corresponding period of the previous year are calculated for the reporting period of the current year until the corresponding period of the previous year (January, January-February, …, January-November, January-December); 4. Дані за 2014 рік наведено без урахування тимчасово окупованої території Автономної Республіки Крим та м.Севастополя./Data for 2014 to exclude the temporarily occupied territory of the Autonomous Republic of Crimea, the city of Sevastopol; 5. Дані за 2015-2021 роки наведено без урахування тимчасово окупованої території Автономної Республіки Крим, м.Севастополя та частини тимчасово окупованих територій у Донецькій та Луганській областях./Data for 2015-2021 to exclude the temporarily occupied territory of the Autonomous Republic of Crimea, the city of Sevastopol and a part of temporarily occupied territories in the Donetsk and Luhansk regions; 6. Дані за 2022-2024 роки наведено без урахування тимчасово окупованих російською федерацією територій та частини територій, на яких ведуться (велися) бойові дії./Data for 2022-2024 to exclude the territories which are temporarily occupied by the russian federation and part of territories where the military actions are/were conducted; 7. Класифікація індивідуального споживання за цілями (КІСЦ)./Classification of Individual Consumption by Purpose (COICOP); 8. Перегляд даних, розрахованих і оприлюднених раніше, не здійснюється./Data calculated and published earlier is not reviewed.|\n",
      "|1. З 2010 року./From year 2010; 2. Базовий індекс споживчих цін (БІСЦ, базова інфляція) є субіндексом індексу споживчих цін. Його побудова заснована на існуючих методологічних засадах щодо розрахунку індексу споживчих цін. БІСЦ показує стійку динаміку цін із мінімізацією короткострокових нерівномірних змін цін, спричинених шоками пропозиції та адміністративним регулюванням./Core inflation (CI) is a sub-index of the Consumer price indices. Its construction is based on existing methodological principles for calculating the consumer price indices. CI shows stable price dynamics with minimization of short-term uneven price changes caused by supply shocks and administrative regulation; 3. Базовий індекс споживчих цін до відповідного періоду попереднього року розраховуються за звітний період поточного року до відповідного періоду попереднього року (січень, січень-лютий, …, січень-листопад, січень-грудень)./'Core inflation to the corresponding period of the previous year are calculated for the reporting period of the current year until the corresponding period of the previous year (January, January-February, …, January-November, January-December); 4. Дані за 2014 рік наведено без урахування тимчасово окупованої території Автономної Республіки Крим та м.Севастополя./Data for 2014 to exclude the temporarily occupied territory of the Autonomous Republic of Crimea, the city of Sevastopol; 5. Дані за 2015-2021 роки наведено без урахування тимчасово окупованої території Автономної Республіки Крим, м.Севастополя та частини тимчасово окупованих територій у Донецькій та Луганській областях./Data for 2015-2021 to exclude the temporarily occupied territory of the Autonomous Republic of Crimea, the city of Sevastopol and a part of temporarily occupied territories in the Donetsk and Luhansk regions; 6. Дані за 2022-2024 роки наведено без урахування тимчасово окупованих російською федерацією територій та частини територій, на яких ведуться (велися) бойові дії./Data for 2022-2024 to exclude the territories which are temporarily occupied by the russian federation and part of territories where the military actions are/were conducted; 7. Класифікація індивідуального споживання за цілями (КІСЦ)./Classification of Individual Consumption by Purpose (COICOP); 8. Перегляд даних, розрахованих і оприлюднених раніше, не здійснюється./Data calculated and published earlier is not reviewed.|\n",
      "|1. З 2006 року./From year 2006; 2. Індекси споживчих цін до відповідного періоду попереднього року розраховуються за звітний період поточного року до відповідного періоду попереднього року (січень, січень-лютий, …, січень-листопад, січень-грудень)./Consumer price indices to the corresponding period of the previous year are calculated for the reporting period of the current year until the corresponding period of the previous year (January, January-February, …, January-November, January-December); 3. Дані за 2014 рік наведено без урахування тимчасово окупованої території Автономної Республіки Крим та м.Севастополя./Data for 2014 to exclude the temporarily occupied territory of the Autonomous Republic of Crimea, the city of Sevastopol; 4. Дані за 2015-2021 роки наведено без урахування тимчасово окупованої території Автономної Республіки Крим, м.Севастополя та частини тимчасово окупованих територій у Донецькій та Луганській областях./Data for 2015-2021 to exclude the temporarily occupied territory of the Autonomous Republic of Crimea, the city of Sevastopol and a part of temporarily occupied territories in the Donetsk and Luhansk regions; 5. Дані за 2022-2024 роки наведено без урахування тимчасово окупованих російською федерацією територій та частини територій, на яких ведуться (велися) бойові дії./Data for 2022-2024 to exclude the territories which are temporarily occupied by the russian federation and part of territories where the military actions are/were conducted; 6. Класифікація індивідуального споживання за цілями (КІСЦ)./Classification of Individual Consumption by Purpose (COICOP); 7. Перегляд даних, розрахованих і оприлюднених раніше, не здійснюється./Data calculated and published earlier is not reviewed.                                                                                                                                                                                                                                                                                                                                                                                                                                                                                                                                                                                                                                                                                  |\n",
      "|1. З 1993 року./From year 1993; 2. Індекси споживчих цін до відповідного періоду попереднього року розраховуються за звітний період поточного року до відповідного періоду попереднього року (січень, січень-лютий, …, січень-листопад, січень-грудень)./Consumer price indices to the corresponding period of the previous year are calculated for the reporting period of the current year until the corresponding period of the previous year (January, January-February, …, January-November, January-December); 3. Дані за 2014 рік наведено без урахування тимчасово окупованої території Автономної Республіки Крим та м.Севастополя./Data for 2014 to exclude the temporarily occupied territory of the Autonomous Republic of Crimea, the city of Sevastopol; 4. Дані за 2015-2021 роки наведено без урахування тимчасово окупованої території Автономної Республіки Крим, м.Севастополя та частини тимчасово окупованих територій у Донецькій та Луганській областях./Data for 2015-2021 to exclude the temporarily occupied territory of the Autonomous Republic of Crimea, the city of Sevastopol and a part of temporarily occupied territories in the Donetsk and Luhansk regions; 5. Дані за 2022-2024 роки наведено без урахування тимчасово окупованих російською федерацією територій та частини територій, на яких ведуться (велися) бойові дії./Data for 2022-2024 to exclude the territories which are temporarily occupied by the russian federation and part of territories where the military actions are/were conducted; 6. Класифікація індивідуального споживання за цілями (КІСЦ)./Classification of Individual Consumption by Purpose (COICOP); 7. Перегляд даних, розрахованих і оприлюднених раніше, не здійснюється./Data calculated and published earlier is not reviewed.                                                                                                                                                                                                                                                                                                                                                                                                                                                                                                                                                                                                                                                                                  |\n",
      "|1. З 2005 року./From year 2005; 2. Дані за 2014 рік наведено без урахування тимчасово окупованої території Автономної Республіки Крим та м.Севастополя./Data for 2014 to exclude the temporarily occupied territory of the Autonomous Republic of Crimea, the city of Sevastopol; 3. Дані за 2015-2021 роки наведено без урахування тимчасово окупованої території Автономної Республіки Крим, м.Севастополя та частини тимчасово окупованих територій у Донецькій та Луганській областях./Data for 2015-2021 to exclude the temporarily occupied territory of the Autonomous Republic of Crimea, the city of Sevastopol and a part of temporarily occupied territories in the Donetsk and Luhansk regions; 4. Дані за 2022-2024 роки наведено без урахування тимчасово окупованих російською федерацією територій та частини територій, на яких ведуться (велися) бойові дії./Data for 2022-2024 to exclude the territories which are temporarily occupied by the russian federation and part of territories where the military actions are/were conducted; 5. Класифікація індивідуального споживання за цілями (КІСЦ)./Classification of Individual Consumption by Purpose (COICOP); 6. Перегляд даних, розрахованих і оприлюднених раніше, не здійснюється./Data calculated and published earlier is not reviewed.                                                                                                                                                                                                                                                                                                                                                                                                                                                                                                                                                                                                                                                                                                                                                                                                                                                                                                                                                                                                                                                                                                                                                                       |\n",
      "|1. З 1992 року./From year 1992; 2. Індекси споживчих цін до відповідного періоду попереднього року розраховуються за звітний період поточного року до відповідного періоду попереднього року (січень, січень-лютий, …, січень-листопад, січень-грудень)./Consumer price indices to the corresponding period of the previous year are calculated for the reporting period of the current year until the corresponding period of the previous year (January, January-February, …, January-November, January-December); 3. Дані за 2014 рік наведено без урахування тимчасово окупованої території Автономної Республіки Крим та м.Севастополя./Data for 2014 to exclude the temporarily occupied territory of the Autonomous Republic of Crimea, the city of Sevastopol; 4. Дані за 2015-2021 роки наведено без урахування тимчасово окупованої території Автономної Республіки Крим, м.Севастополя та частини тимчасово окупованих територій у Донецькій та Луганській областях./Data for 2015-2021 to exclude the temporarily occupied territory of the Autonomous Republic of Crimea, the city of Sevastopol and a part of temporarily occupied territories in the Donetsk and Luhansk regions; 5. Дані за 2022-2024 роки наведено без урахування тимчасово окупованих російською федерацією територій та частини територій, на яких ведуться (велися) бойові дії./Data for 2022-2024 to exclude the territories which are temporarily occupied by the russian federation and part of territories where the military actions are/were conducted; 6. Класифікація індивідуального споживання за цілями (КІСЦ)./Classification of Individual Consumption by Purpose (COICOP); 7. Перегляд даних, розрахованих і оприлюднених раніше, не здійснюється./Data calculated and published earlier is not reviewed.                                                                                                                                                                                                                                                                                                                                                                                                                                                                                                                                                                                                                                                                                  |\n",
      "|1. З 2001 року./From year 2001; 2. Дані за 2014 рік наведено без урахування тимчасово окупованої території Автономної Республіки Крим та м.Севастополя./Data for 2014 to exclude the temporarily occupied territory of the Autonomous Republic of Crimea, the city of Sevastopol; 3. Дані за 2015-2021 роки наведено без урахування тимчасово окупованої території Автономної Республіки Крим, м.Севастополя та частини тимчасово окупованих територій у Донецькій та Луганській областях./Data for 2015-2021 to exclude the temporarily occupied territory of the Autonomous Republic of Crimea, the city of Sevastopol and a part of temporarily occupied territories in the Donetsk and Luhansk regions; 4. Дані за 2022-2024 роки наведено без урахування тимчасово окупованих російською федерацією територій та частини територій, на яких ведуться (велися) бойові дії./Data for 2022-2024 to exclude the territories which are temporarily occupied by the russian federation and part of territories where the military actions are/were conducted; 5. Класифікація індивідуального споживання за цілями (КІСЦ)./Classification of Individual Consumption by Purpose (COICOP); 6. Перегляд даних, розрахованих і оприлюднених раніше, не здійснюється./Data calculated and published earlier is not reviewed; 7. Коди регіонів відповідно до Кодифікатора адміністративно-територіальних одиниць та територій територіальних громад:  https://www.minregion.gov.ua/wp-content/uploads/2022/11/kodyfikator-3.xlsx./Codes of regions in accordance with the Codifier of administrative-territorial units and territories of territorial communities: https://www.minregion.gov.ua/wp-content/uploads/2022/11/kodyfikator-3.xlsx.                                                                                                                                                                                                                                                                                                                                                                                                                                                                                                                                                                                                                                                                                                                                                      |\n",
      "|1. З 1991 року./From year 1991; 2. Дані за 2014 рік наведено без урахування тимчасово окупованої території Автономної Республіки Крим та м.Севастополя./Data for 2014 to exclude the temporarily occupied territory of the Autonomous Republic of Crimea, the city of Sevastopol; 3. Дані за 2015-2021 роки наведено без урахування тимчасово окупованої території Автономної Республіки Крим, м.Севастополя та частини тимчасово окупованих територій у Донецькій та Луганській областях./Data for 2015-2021 to exclude the temporarily occupied territory of the Autonomous Republic of Crimea, the city of Sevastopol and a part of temporarily occupied territories in the Donetsk and Luhansk regions; 4. Дані за 2022-2024 роки наведено без урахування тимчасово окупованих російською федерацією територій та частини територій, на яких ведуться (велися) бойові дії./Data for 2022-2024 to exclude the territories which are temporarily occupied by the russian federation and part of territories where the military actions are/were conducted; 5. Класифікація індивідуального споживання за цілями (КІСЦ)./Classification of Individual Consumption by Purpose (COICOP); 6. Перегляд даних, розрахованих і оприлюднених раніше, не здійснюється./Data calculated and published earlier is not reviewed; 7. Коди регіонів відповідно до Кодифікатора адміністративно-територіальних одиниць та територій територіальних громад:  https://www.minregion.gov.ua/wp-content/uploads/2022/11/kodyfikator-3.xlsx./Codes of regions in accordance with the Codifier of administrative-territorial units and territories of territorial communities: https://www.minregion.gov.ua/wp-content/uploads/2022/11/kodyfikator-3.xlsx.                                                                                                                                                                                                                                                                                                                                                                                                                                                                                                                                                                                                                                                                                                                                                      |\n",
      "|1. З 1991 року./From year 1991; 2. Індекси споживчих цін до відповідного періоду попереднього року розраховуються за звітний період поточного року до відповідного періоду попереднього року (січень, січень-лютий, …, січень-листопад, січень-грудень)./Consumer price indices to the corresponding period of the previous year are calculated for the reporting period of the current year until the corresponding period of the previous year (January, January-February, …, January-November, January-December); 3. Дані за 2014 рік наведено без урахування тимчасово окупованої території Автономної Республіки Крим та м.Севастополя./Data for 2014 to exclude the temporarily occupied territory of the Autonomous Republic of Crimea, the city of Sevastopol; 4. Дані за 2015-2021 роки наведено без урахування тимчасово окупованої території Автономної Республіки Крим, м.Севастополя та частини тимчасово окупованих територій у Донецькій та Луганській областях./Data for 2015-2021 to exclude the temporarily occupied territory of the Autonomous Republic of Crimea, the city of Sevastopol and a part of temporarily occupied territories in the Donetsk and Luhansk regions; 5. Дані за 2022-2024 роки наведено без урахування тимчасово окупованих російською федерацією територій та частини територій, на яких ведуться (велися) бойові дії./Data for 2022-2024 to exclude the territories which are temporarily occupied by the russian federation and part of territories where the military actions are/were conducted; 6. Класифікація індивідуального споживання за цілями (КІСЦ)./Classification of Individual Consumption by Purpose (COICOP); 7. Перегляд даних, розрахованих і оприлюднених раніше, не здійснюється./Data calculated and published earlier is not reviewed.                                                                                                                                                                                                                                                                                                                                                                                                                                                                                                                                                                                                                                                                                  |\n",
      "|1. З 2017 року./From year 2017; 2. Дані за одиницю вимірювання наведено у грн./Data per unit of measurement are given in UAH; 3. Перегляд даних, розрахованих і оприлюднених раніше, не здійснюється./Data calculated and published earlier is not reviewed; 4. Дані за 2017-2021 роки наведено без урахування тимчасово окупованої території Автономної Республіки Крим, м.Севастополя та частини тимчасово окупованих територій у Донецькій та Луганській областях./Data for 2017-2021 to exclude the temporarily occupied territory of the Autonomous Republic of Crimea, the city of Sevastopol and a part of temporarily occupied territories in the Donetsk and Luhansk regions; 5. Дані за 2022-2024 роки наведено без урахування тимчасово окупованих російською федерацією територій та частини територій, на яких ведуться (велися) бойові дії./Data  for 2022-2024 to exclude the territories which are temporarily occupied by the russian federation and part of territories where the military actions are/were conducted.                                                                                                                                                                                                                                                                                                                                                                                                                                                                                                                                                                                                                                                                                                                                                                                                                                                                                                                                                                                                                                                                                                                                                                                                                                                                                                                                                                                                                                                     |\n",
      "|1. З 2002 року./From year 2002; 2. Дані за 2014 рік наведено без урахування тимчасово окупованої території Автономної Республіки Крим та м.Севастополя./Data for 2014 to exclude the temporarily occupied territory of the Autonomous Republic of Crimea, the city of Sevastopol; 3. Дані за 2015-2021 роки наведено без урахування тимчасово окупованої території Автономної Республіки Крим, м.Севастополя та частини тимчасово окупованих територій у Донецькій та Луганській областях./Data for 2015-2021 to exclude the temporarily occupied territory of the Autonomous Republic of Crimea, the city of Sevastopol and a part of temporarily occupied territories in the Donetsk and Luhansk regions; 4. Дані за 2022-2024 роки наведено без урахування тимчасово окупованих російською федерацією територій та частини територій, на яких ведуться (велися) бойові дії./Data for 2022-2024 to exclude the territories which are temporarily occupied by the russian federation and part of territories where the military actions are/were conducted; 5. Класифікація індивідуального споживання за цілями (КІСЦ)./Classification of Individual Consumption by Purpose (COICOP); 6. Перегляд даних, розрахованих і оприлюднених раніше, не здійснюється./Data calculated and published earlier is not reviewed.                                                                                                                                                                                                                                                                                                                                                                                                                                                                                                                                                                                                                                                                                                                                                                                                                                                                                                                                                                                                                                                                                                                                                                       |\n",
      "|1. З 2017 року./From year 2017; 2. Дані за одиницю вимірювання наведено у грн./Data per unit of measurement are given in UAH; 3. Перегляд даних, розрахованих і оприлюднених раніше, не здійснюється./Data calculated and published earlier is not reviewed.                                                                                                                                                                                                                                                                                                                                                                                                                                                                                                                                                                                                                                                                                                                                                                                                                                                                                                                                                                                                                                                                                                                                                                                                                                                                                                                                                                                                                                                                                                                                                                                                                                                                                                                                                                                                                                                                                                                                                                                                                                                                                                                                                                                                                                 |\n",
      "|1. З 2017 року./From year 2017; 2. Дані за одиницю вимірювання наведено у грн./Data per unit of measurement are given in UAH; 3. Перегляд даних, розрахованих і оприлюднених раніше, не здійснюється./Data calculated and published earlier is not reviewed; 4. Дані за 2017-2021 роки наведено без урахування тимчасово окупованої території у Донецькій області./Data for 2017-2021 to exclude the temporarily occupied territory in the Donetsk region; 5. Дані за 2022-2024 роки наведено без урахування тимчасово окупованих російською федерацією територій та частини територій, на яких ведуться (велися) бойові дії./Data  for 2022-2024 to exclude the territories which are temporarily occupied by the russian federation and part of territories where the military actions are/were conducted.                                                                                                                                                                                                                                                                                                                                                                                                                                                                                                                                                                                                                                                                                                                                                                                                                                                                                                                                                                                                                                                                                                                                                                                                                                                                                                                                                                                                                                                                                                                                                                                                                                                                                 |\n",
      "|1. З 2017 року./From year 2017; 2. Дані за одиницю вимірювання наведено у грн./Data per unit of measurement are given in UAH; 3. Перегляд даних, розрахованих і оприлюднених раніше, не здійснюється./Data calculated and published earlier is not reviewed; 4. Дані за 2017-2021 роки наведено без урахування тимчасово окупованої території у Луганській області./Data for 2017-2021 to exclude the temporarily occupied territory in the Luhansk region; 5. Дані за 2022-2024 роки наведено без урахування тимчасово окупованих російською федерацією територій та частини територій, на яких ведуться (велися) бойові дії./Data  for 2022-2024 to exclude the territories which are temporarily occupied by the russian federation and part of territories where the military actions are/were conducted.                                                                                                                                                                                                                                                                                                                                                                                                                                                                                                                                                                                                                                                                                                                                                                                                                                                                                                                                                                                                                                                                                                                                                                                                                                                                                                                                                                                                                                                                                                                                                                                                                                                                                |\n",
      "|1. З 2001 року./From year 2001; 2. Коди регіонів відповідно до Кодифікатора адміністративно-територіальних одиниць та територій територіальних громад:  https://www.minregion.gov.ua/wp-content/uploads/2022/11/kodyfikator-3.xlsx./'Codes of regions in accordance with the Codifier of administrative-territorial units and territories of territorial communities: https://www.minregion.gov.ua/wp-content/uploads/2022/11/kodyfikator-3.xlsx; 3. Класифікація індивідуального споживання за цілями (КІСЦ)./Classification of Individual Consumption by Purpose (COICOP); 4. Перегляд даних, розрахованих і оприлюднених раніше, не здійснюється./Data calculated and published earlier is not reviewed.                                                                                                                                                                                                                                                                                                                                                                                                                                                                                                                                                                                                                                                                                                                                                                                                                                                                                                                                                                                                                                                                                                                                                                                                                                                                                                                                                                                                                                                                                                                                                                                                                                                                                                                                                                                  |\n",
      "|1. З 2001 року./From year 2001; 2. Коди регіонів відповідно до Кодифікатора адміністративно-територіальних одиниць та територій територіальних громад:  https://www.minregion.gov.ua/wp-content/uploads/2022/11/kodyfikator-3.xlsx./'Codes of regions in accordance with the Codifier of administrative-territorial units and territories of territorial communities: https://www.minregion.gov.ua/wp-content/uploads/2022/11/kodyfikator-3.xlsx; 3. Дані за 2015-2021 роки наведено без урахування тимчасово окупованої території у Донецькій області./Data for 2015-2021 to exclude the temporarily occupied territory in the Donetsk regions; 4. Дані за 2022-2024 роки наведено без урахування тимчасово окупованих російською федерацією територій та частини територій, на яких ведуться (велися) бойові дії./Data for 2022-2024 to exclude the territories which are temporarily occupied by the russian federation and part of territories where the military actions are/were conducted; 5. Класифікація індивідуального споживання за цілями (КІСЦ)./Classification of Individual Consumption by Purpose (COICOP); 6. Перегляд даних, розрахованих і оприлюднених раніше, не здійснюється./Data calculated and published earlier is not reviewed.                                                                                                                                                                                                                                                                                                                                                                                                                                                                                                                                                                                                                                                                                                                                                                                                                                                                                                                                                                                                                                                                                                                                                                                                                                  |\n",
      "|1. З 2001 року./From year 2001; 2. Коди регіонів відповідно до Кодифікатора адміністративно-територіальних одиниць та територій територіальних громад:  https://www.minregion.gov.ua/wp-content/uploads/2022/11/kodyfikator-3.xlsx./'Codes of regions in accordance with the Codifier of administrative-territorial units and territories of territorial communities: https://www.minregion.gov.ua/wp-content/uploads/2022/11/kodyfikator-3.xlsx; 3. Дані за 2015-2021 роки наведено без урахування тимчасово окупованої території у Луганській області./Data for 2015-2021 to exclude the temporarily occupied territory in the Luhansk regions; 4. Дані за 2022-2024 роки наведено без урахування тимчасово окупованих російською федерацією територій та частини територій, на яких ведуться (велися) бойові дії./Data for 2022-2024 to exclude the territories which are temporarily occupied by the russian federation and part of territories where the military actions are/were conducted; 5. Класифікація індивідуального споживання за цілями (КІСЦ)./Classification of Individual Consumption by Purpose (COICOP); 6. Перегляд даних, розрахованих і оприлюднених раніше, не здійснюється./Data calculated and published earlier is not reviewed.                                                                                                                                                                                                                                                                                                                                                                                                                                                                                                                                                                                                                                                                                                                                                                                                                                                                                                                                                                                                                                                                                                                                                                                                                                 |\n",
      "+---------------------------------------------------------------------------------------------------------------------------------------------------------------------------------------------------------------------------------------------------------------------------------------------------------------------------------------------------------------------------------------------------------------------------------------------------------------------------------------------------------------------------------------------------------------------------------------------------------------------------------------------------------------------------------------------------------------------------------------------------------------------------------------------------------------------------------------------------------------------------------------------------------------------------------------------------------------------------------------------------------------------------------------------------------------------------------------------------------------------------------------------------------------------------------------------------------------------------------------------------------------------------------------------------------------------------------------------------------------------------------------------------------------------------------------------------------------------------------------------------------------------------------------------------------------------------------------------------------------------------------------------------------------------------------------------------------------------------------------------------------------------------------------------------------------------------------------------------------------------------------------------------------------------------------------------------------------------------------------------------------------------------------------------------------------------------------------------------------------------------------------------------------------------------------------------------------------------------------------------------------------------------------------------------------------------------------------------------------------------------------------------------------------------------------------------------------------------------------------------+\n",
      "\n"
     ]
    }
   ],
   "source": [
    "df.select(UKRAINE_PRICE_INITIAL_COLUMNS.TIME_SERIES_NOTES).distinct().show(truncate=False)"
   ]
  },
  {
   "cell_type": "code",
   "execution_count": null,
   "metadata": {},
   "outputs": [],
   "source": [
    "from pyspark.sql.functions import regexp_extract, when, col, lit\n",
    "\n",
    "\n",
    "class UKRAINE_PRICE_METADATA_COLUMN:\n",
    "    FROM_YEAR = \"from_year\"\n",
    "    CORE_INFLATION_DESCRIPTION = \"core_inflation_description\"\n",
    "    CORE_INFLATION_CALCULATION = \"core_inflation_calculation\"\n",
    "    DATA_EXCLUSION_2014 = \"data_exclusion_2014\"\n",
    "    DATA_EXCLUSION_2015_2021 = \"data_exclusion_2015_2021\"\n",
    "    DATA_EXCLUSION_2022_2024 = \"data_exclusion_2022_2024\"\n",
    "    CLASSIFICATION = \"classification\"\n",
    "    DATA_REVIEW = \"data_review\"\n",
    "    REGION_CODES = \"region_codes\"\n",
    "\n",
    "\n",
    "patterns = {\n",
    "    \"core_inflation_description\": \"Базовий індекс споживчих цін\",\n",
    "    \"core_inflation_calculation\": \"Базовий індекс споживчих цін до відповідного періоду попереднього року\",\n",
    "\n",
    "    \"data_exclusion_2014\": \"Дані за 2014 рік наведено без урахування тимчасово окупованої території Автономної Республіки Крим та м.Севастополя\",\n",
    "\n",
    "    \"data_exclusion_2015_2021\": \"Дані за 2015-2021 роки наведено без урахування тимчасово окупованої території Автономної Республіки Крим, м.Севастополя та частини тимчасово окупованих територій у Донецькій та Луганській областях\",\n",
    "    \"data_exclusion_2022_2024\": \"Дані за 2022-2024 роки наведено без урахування тимчасово окупованих російською федерацією територій та частини територій, на яких ведуться (велися) бойові дії\",\n",
    "    \"classification\": \"Класифікація індивідуального споживання за цілями (КІСЦ)\",\n",
    "    \"data_review\": \"Перегляд даних, розрахованих і оприлюднених раніше, не здійснюється\",\n",
    "    \"region_codes\": \"Коди регіонів відповідно до Кодифікатора адміністративно-територіальних одиниць та територій територіальних громад\",\n",
    "}\n",
    "\n",
    "\n",
    "\n",
    "# Витягнення початкового року\n",
    "\n",
    "\n",
    "\n",
    "df = df.withColumn(\n",
    "    \"from_year\",\n",
    "    regexp_extract(\n",
    "\n",
    "        col(UKRAINE_PRICE_INITIAL_COLUMNS.TIME_SERIES_NOTES), r\"1\\.\\s*З\\s+(\\d{4})\", 1\n",
    "    ).cast(\"int\"),\n",
    ")\n",
    "\n",
    "\n",
    "\n",
    "# Створення булевих колонок на основі наявності певних патернів\n",
    "\n",
    "\n",
    "\n",
    "for col_name, pattern in patterns.items():\n",
    "\n",
    "    df = df.withColumn(\n",
    "        col_name,\n",
    "        when(\n",
    "\n",
    "            col(UKRAINE_PRICE_INITIAL_COLUMNS.TIME_SERIES_NOTES).contains(pattern), lit(True)\n",
    "        ).otherwise(lit(False)),\n",
    "    )\n",
    "\n",
    "\n",
    "\n",
    "# Опціонально: Видалення оригінальної колонки, якщо вона більше не потрібна\n",
    "\n",
    "\n",
    "\n",
    "df = df.drop(UKRAINE_PRICE_INITIAL_COLUMNS.TIME_SERIES_NOTES)"
   ]
  },
  {
   "cell_type": "code",
   "execution_count": 7,
   "metadata": {},
   "outputs": [
    {
     "data": {
      "text/plain": [
       "[Row(from_year=2001, core_inflation_description=False, core_inflation_calculation=False, data_exclusion_2014=False, data_exclusion_2015_2021=False, data_exclusion_2022_2024=False, classification=True, data_review=True, region_codes=True),\n",
       " Row(from_year=2001, core_inflation_description=False, core_inflation_calculation=False, data_exclusion_2014=False, data_exclusion_2015_2021=False, data_exclusion_2022_2024=False, classification=True, data_review=True, region_codes=True),\n",
       " Row(from_year=2001, core_inflation_description=False, core_inflation_calculation=False, data_exclusion_2014=False, data_exclusion_2015_2021=False, data_exclusion_2022_2024=False, classification=True, data_review=True, region_codes=True),\n",
       " Row(from_year=2001, core_inflation_description=False, core_inflation_calculation=False, data_exclusion_2014=False, data_exclusion_2015_2021=False, data_exclusion_2022_2024=False, classification=True, data_review=True, region_codes=True),\n",
       " Row(from_year=2001, core_inflation_description=False, core_inflation_calculation=False, data_exclusion_2014=False, data_exclusion_2015_2021=False, data_exclusion_2022_2024=False, classification=True, data_review=True, region_codes=True),\n",
       " Row(from_year=2001, core_inflation_description=False, core_inflation_calculation=False, data_exclusion_2014=False, data_exclusion_2015_2021=False, data_exclusion_2022_2024=False, classification=True, data_review=True, region_codes=True),\n",
       " Row(from_year=2001, core_inflation_description=False, core_inflation_calculation=False, data_exclusion_2014=False, data_exclusion_2015_2021=False, data_exclusion_2022_2024=False, classification=True, data_review=True, region_codes=True),\n",
       " Row(from_year=2001, core_inflation_description=False, core_inflation_calculation=False, data_exclusion_2014=False, data_exclusion_2015_2021=False, data_exclusion_2022_2024=False, classification=True, data_review=True, region_codes=True),\n",
       " Row(from_year=2001, core_inflation_description=False, core_inflation_calculation=False, data_exclusion_2014=False, data_exclusion_2015_2021=False, data_exclusion_2022_2024=False, classification=True, data_review=True, region_codes=True),\n",
       " Row(from_year=2001, core_inflation_description=False, core_inflation_calculation=False, data_exclusion_2014=False, data_exclusion_2015_2021=False, data_exclusion_2022_2024=False, classification=True, data_review=True, region_codes=True),\n",
       " Row(from_year=2001, core_inflation_description=False, core_inflation_calculation=False, data_exclusion_2014=False, data_exclusion_2015_2021=False, data_exclusion_2022_2024=False, classification=True, data_review=True, region_codes=True),\n",
       " Row(from_year=2001, core_inflation_description=False, core_inflation_calculation=False, data_exclusion_2014=False, data_exclusion_2015_2021=False, data_exclusion_2022_2024=False, classification=True, data_review=True, region_codes=True),\n",
       " Row(from_year=2001, core_inflation_description=False, core_inflation_calculation=False, data_exclusion_2014=False, data_exclusion_2015_2021=False, data_exclusion_2022_2024=False, classification=True, data_review=True, region_codes=True),\n",
       " Row(from_year=2001, core_inflation_description=False, core_inflation_calculation=False, data_exclusion_2014=False, data_exclusion_2015_2021=False, data_exclusion_2022_2024=False, classification=True, data_review=True, region_codes=True),\n",
       " Row(from_year=2001, core_inflation_description=False, core_inflation_calculation=False, data_exclusion_2014=False, data_exclusion_2015_2021=False, data_exclusion_2022_2024=False, classification=True, data_review=True, region_codes=True),\n",
       " Row(from_year=2001, core_inflation_description=False, core_inflation_calculation=False, data_exclusion_2014=False, data_exclusion_2015_2021=False, data_exclusion_2022_2024=False, classification=True, data_review=True, region_codes=True),\n",
       " Row(from_year=2001, core_inflation_description=False, core_inflation_calculation=False, data_exclusion_2014=False, data_exclusion_2015_2021=False, data_exclusion_2022_2024=False, classification=True, data_review=True, region_codes=True),\n",
       " Row(from_year=2001, core_inflation_description=False, core_inflation_calculation=False, data_exclusion_2014=False, data_exclusion_2015_2021=False, data_exclusion_2022_2024=False, classification=True, data_review=True, region_codes=True),\n",
       " Row(from_year=2001, core_inflation_description=False, core_inflation_calculation=False, data_exclusion_2014=False, data_exclusion_2015_2021=False, data_exclusion_2022_2024=False, classification=True, data_review=True, region_codes=True),\n",
       " Row(from_year=2001, core_inflation_description=False, core_inflation_calculation=False, data_exclusion_2014=False, data_exclusion_2015_2021=False, data_exclusion_2022_2024=False, classification=True, data_review=True, region_codes=True)]"
      ]
     },
     "execution_count": 7,
     "metadata": {},
     "output_type": "execute_result"
    }
   ],
   "source": [
    "df.select(\n",
    "    \"from_year\",\n",
    "    \"core_inflation_description\",\n",
    "    \"core_inflation_calculation\",\n",
    "    \"data_exclusion_2014\",\n",
    "    \"data_exclusion_2015_2021\",\n",
    "    \"data_exclusion_2022_2024\",\n",
    "    \"classification\",\n",
    "    \"data_review\",\n",
    "    \"region_codes\",\n",
    ").tail(20)"
   ]
  },
  {
   "cell_type": "markdown",
   "metadata": {},
   "source": [
    "## Analyze \"Примітки спостереження\" column"
   ]
  },
  {
   "cell_type": "code",
   "execution_count": 8,
   "metadata": {},
   "outputs": [
    {
     "name": "stdout",
     "output_type": "stream",
     "text": [
      "+--------------------------------------------------+\n",
      "|Примітки спостереження                            |\n",
      "+--------------------------------------------------+\n",
      "|1. Відомості відсутні./Not available.             |\n",
      "|1. Явищ не було./Not observed.                    |\n",
      "|1. Визначено експертним шляхом./Expert`s estimate.|\n",
      "|NULL                                              |\n",
      "+--------------------------------------------------+\n",
      "\n"
     ]
    }
   ],
   "source": [
    "df.select(UKRAINE_PRICE_INITIAL_COLUMNS.OBSERVATION_NOTES).distinct().show(truncate=False)"
   ]
  },
  {
   "cell_type": "code",
   "execution_count": null,
   "metadata": {},
   "outputs": [],
   "source": [
    "df = df.where(\n",
    "    (\n",
    "        col(UKRAINE_PRICE_INITIAL_COLUMNS.OBSERVATION_NOTES)\n",
    "        != \"1. Відомості відсутні./Not available.\"\n",
    "    )\n",
    "    | col(UKRAINE_PRICE_INITIAL_COLUMNS.OBSERVATION_NOTES).isNull()\n",
    ")"
   ]
  },
  {
   "cell_type": "code",
   "execution_count": null,
   "metadata": {},
   "outputs": [],
   "source": [
    "df = df.where(\n",
    "    (col(UKRAINE_PRICE_INITIAL_COLUMNS.OBSERVATION_NOTES) != \"1. Явищ не було./Not observed.\")\n",
    "    | col(UKRAINE_PRICE_INITIAL_COLUMNS.OBSERVATION_NOTES).isNull()\n",
    ")"
   ]
  },
  {
   "cell_type": "code",
   "execution_count": 11,
   "metadata": {},
   "outputs": [
    {
     "data": {
      "text/plain": [
       "194780"
      ]
     },
     "execution_count": 11,
     "metadata": {},
     "output_type": "execute_result"
    }
   ],
   "source": [
    "df.count()"
   ]
  },
  {
   "cell_type": "code",
   "execution_count": null,
   "metadata": {},
   "outputs": [],
   "source": [
    "df = df.drop(UKRAINE_PRICE_INITIAL_COLUMNS.OBSERVATION_NOTES)"
   ]
  },
  {
   "cell_type": "markdown",
   "metadata": {},
   "source": [
    "## Remove CONFIDENTIALITY column"
   ]
  },
  {
   "cell_type": "code",
   "execution_count": 13,
   "metadata": {},
   "outputs": [
    {
     "name": "stdout",
     "output_type": "stream",
     "text": [
      "+----------------+\n",
      "|Конфіденційність|\n",
      "+----------------+\n",
      "|            NULL|\n",
      "+----------------+\n",
      "\n"
     ]
    }
   ],
   "source": [
    "df.select(UKRAINE_PRICE_INITIAL_COLUMNS.CONFIDENTIALITY).distinct().show()"
   ]
  },
  {
   "cell_type": "code",
   "execution_count": null,
   "metadata": {},
   "outputs": [],
   "source": [
    "df = df.drop(UKRAINE_PRICE_INITIAL_COLUMNS.CONFIDENTIALITY)"
   ]
  },
  {
   "cell_type": "markdown",
   "metadata": {},
   "source": [
    "## Review And Split Cleaned Data"
   ]
  },
  {
   "cell_type": "code",
   "execution_count": 15,
   "metadata": {},
   "outputs": [
    {
     "name": "stdout",
     "output_type": "stream",
     "text": [
      "+--------------------+--------------------+---------------------+--------------------+-------------+--------+----------------------+--------------+-------------+---------------------------+---------+--------------------------+--------------------------+-------------------+------------------------+------------------------+--------------+-----------+------------+\n",
      "|            Показник|     Базисний період|Територіальний розріз|Тип товарів і послуг|Періодичність|  Період|Значення спостереження|Одиниця виміру|Масштабування|Кількість десяткових знаків|from_year|core_inflation_description|core_inflation_calculation|data_exclusion_2014|data_exclusion_2015_2021|data_exclusion_2022_2024|classification|data_review|region_codes|\n",
      "+--------------------+--------------------+---------------------+--------------------+-------------+--------+----------------------+--------------+-------------+---------------------------+---------+--------------------------+--------------------------+-------------------+------------------------+------------------------+--------------+-----------+------------+\n",
      "|Базовий індекс сп...|До відповідного м...|              Україна|   Не застосовується|      Місячна|2010-M01|                 112.7|      Відсоток|      Одиниці|                       Один|     2010|                      true|                      true|               true|                    true|                    true|          true|       true|       false|\n",
      "|Базовий індекс сп...|До відповідного м...|              Україна|   Не застосовується|      Місячна|2010-M02|                 110.6|      Відсоток|      Одиниці|                       Один|     2010|                      true|                      true|               true|                    true|                    true|          true|       true|       false|\n",
      "|Базовий індекс сп...|До відповідного м...|              Україна|   Не застосовується|      Місячна|2010-M03|                 109.6|      Відсоток|      Одиниці|                       Один|     2010|                      true|                      true|               true|                    true|                    true|          true|       true|       false|\n",
      "|Базовий індекс сп...|До відповідного м...|              Україна|   Не застосовується|      Місячна|2010-M04|                 108.8|      Відсоток|      Одиниці|                       Один|     2010|                      true|                      true|               true|                    true|                    true|          true|       true|       false|\n",
      "|Базовий індекс сп...|До відповідного м...|              Україна|   Не застосовується|      Місячна|2010-M05|                 108.4|      Відсоток|      Одиниці|                       Один|     2010|                      true|                      true|               true|                    true|                    true|          true|       true|       false|\n",
      "|Базовий індекс сп...|До відповідного м...|              Україна|   Не застосовується|      Місячна|2010-M06|                 107.5|      Відсоток|      Одиниці|                       Один|     2010|                      true|                      true|               true|                    true|                    true|          true|       true|       false|\n",
      "|Базовий індекс сп...|До відповідного м...|              Україна|   Не застосовується|      Місячна|2010-M07|                 107.2|      Відсоток|      Одиниці|                       Один|     2010|                      true|                      true|               true|                    true|                    true|          true|       true|       false|\n",
      "|Базовий індекс сп...|До відповідного м...|              Україна|   Не застосовується|      Місячна|2010-M08|                 107.3|      Відсоток|      Одиниці|                       Один|     2010|                      true|                      true|               true|                    true|                    true|          true|       true|       false|\n",
      "|Базовий індекс сп...|До відповідного м...|              Україна|   Не застосовується|      Місячна|2010-M09|                 107.8|      Відсоток|      Одиниці|                       Один|     2010|                      true|                      true|               true|                    true|                    true|          true|       true|       false|\n",
      "|Базовий індекс сп...|До відповідного м...|              Україна|   Не застосовується|      Місячна|2010-M10|                 107.9|      Відсоток|      Одиниці|                       Один|     2010|                      true|                      true|               true|                    true|                    true|          true|       true|       false|\n",
      "+--------------------+--------------------+---------------------+--------------------+-------------+--------+----------------------+--------------+-------------+---------------------------+---------+--------------------------+--------------------------+-------------------+------------------------+------------------------+--------------+-----------+------------+\n",
      "only showing top 10 rows\n",
      "\n"
     ]
    }
   ],
   "source": [
    "df.show(10)"
   ]
  },
  {
   "cell_type": "code",
   "execution_count": 16,
   "metadata": {},
   "outputs": [
    {
     "data": {
      "text/plain": [
       "194780"
      ]
     },
     "execution_count": 16,
     "metadata": {},
     "output_type": "execute_result"
    }
   ],
   "source": [
    "df.count()"
   ]
  },
  {
   "cell_type": "code",
   "execution_count": 17,
   "metadata": {},
   "outputs": [
    {
     "name": "stdout",
     "output_type": "stream",
     "text": [
      "+--------+---------------+---------------------+--------------------+-------------+------+----------------------+--------------+-------------+---------------------------+---------+--------------------------+--------------------------+-------------------+------------------------+------------------------+--------------+-----------+------------+\n",
      "|Показник|Базисний період|Територіальний розріз|Тип товарів і послуг|Періодичність|Період|Значення спостереження|Одиниця виміру|Масштабування|Кількість десяткових знаків|from_year|core_inflation_description|core_inflation_calculation|data_exclusion_2014|data_exclusion_2015_2021|data_exclusion_2022_2024|classification|data_review|region_codes|\n",
      "+--------+---------------+---------------------+--------------------+-------------+------+----------------------+--------------+-------------+---------------------------+---------+--------------------------+--------------------------+-------------------+------------------------+------------------------+--------------+-----------+------------+\n",
      "|       0|              0|                    0|                   0|            0|     0|                     0|             0|            0|                          0|        0|                         0|                         0|                  0|                       0|                       0|             0|          0|           0|\n",
      "+--------+---------------+---------------------+--------------------+-------------+------+----------------------+--------------+-------------+---------------------------+---------+--------------------------+--------------------------+-------------------+------------------------+------------------------+--------------+-----------+------------+\n",
      "\n"
     ]
    }
   ],
   "source": [
    "# Find count for empty, None, Null, Nan with string literals.\n",
    "from pyspark.sql.functions import col, isnan, when, count\n",
    "\n",
    "df.select([count(when(col(c).isNull(), c)).alias(c) for c in df.columns]).show()"
   ]
  },
  {
   "cell_type": "markdown",
   "metadata": {},
   "source": [
    "## Change Columns DataTypes"
   ]
  },
  {
   "cell_type": "code",
   "execution_count": null,
   "metadata": {},
   "outputs": [],
   "source": [
    "df = df.select(\n",
    "    col(UKRAINE_PRICE_INITIAL_COLUMNS.INDICATOR).alias(\"indicator\"),\n",
    "    col(UKRAINE_PRICE_INITIAL_COLUMNS.BASE_PERIOD).alias(\"base_period\"),\n",
    "    col(UKRAINE_PRICE_INITIAL_COLUMNS.TERRITORIAL_BREAKDOWN).alias(\"territorial_breakdown\"),\n",
    "    col(UKRAINE_PRICE_INITIAL_COLUMNS.TYPE_OF_GOODS_AND_SERVICES).alias(\"type_of_goods_and_services\"),\n",
    "    col(UKRAINE_PRICE_INITIAL_COLUMNS.FREQUENCY).alias(\"frequency\"),\n",
    "    col(UKRAINE_PRICE_INITIAL_COLUMNS.PERIOD).alias(\"period\"),\n",
    "    col(UKRAINE_PRICE_INITIAL_COLUMNS.OBSERVATION_VALUE).cast(\"double\").alias(\"observation_value\"),\n",
    "    col(UKRAINE_PRICE_INITIAL_COLUMNS.UNIT_OF_MEASUREMENT).alias(\"unit_of_measurement\"),\n",
    "    col(UKRAINE_PRICE_INITIAL_COLUMNS.SCALING).alias(\"scaling\"),\n",
    "    col(UKRAINE_PRICE_INITIAL_COLUMNS.NUMBER_OF_DECIMAL_PLACES).alias(\"number_of_decimal_places\"),\n",
    "    col(UKRAINE_PRICE_METADATA_COLUMN.FROM_YEAR).cast(\"integer\"),\n",
    "    col(UKRAINE_PRICE_METADATA_COLUMN.CORE_INFLATION_DESCRIPTION),\n",
    "    col(UKRAINE_PRICE_METADATA_COLUMN.CORE_INFLATION_CALCULATION),\n",
    "    col(UKRAINE_PRICE_METADATA_COLUMN.DATA_EXCLUSION_2014),\n",
    "    col(UKRAINE_PRICE_METADATA_COLUMN.DATA_EXCLUSION_2015_2021),\n",
    "    col(UKRAINE_PRICE_METADATA_COLUMN.DATA_EXCLUSION_2022_2024),\n",
    "    col(UKRAINE_PRICE_METADATA_COLUMN.CLASSIFICATION),\n",
    "    col(UKRAINE_PRICE_METADATA_COLUMN.DATA_REVIEW),\n",
    "    col(UKRAINE_PRICE_METADATA_COLUMN.REGION_CODES),\n",
    ")"
   ]
  },
  {
   "cell_type": "code",
   "execution_count": 19,
   "metadata": {},
   "outputs": [
    {
     "name": "stdout",
     "output_type": "stream",
     "text": [
      "root\n",
      " |-- indicator: string (nullable = true)\n",
      " |-- base_period: string (nullable = true)\n",
      " |-- territorial_breakdown: string (nullable = true)\n",
      " |-- type_of_goods_and_services: string (nullable = true)\n",
      " |-- frequency: string (nullable = true)\n",
      " |-- period: string (nullable = true)\n",
      " |-- observation_value: double (nullable = true)\n",
      " |-- unit_of_measurement: string (nullable = true)\n",
      " |-- scaling: string (nullable = true)\n",
      " |-- number_of_decimal_places: string (nullable = true)\n",
      " |-- from_year: integer (nullable = true)\n",
      " |-- core_inflation_description: boolean (nullable = false)\n",
      " |-- core_inflation_calculation: boolean (nullable = false)\n",
      " |-- data_exclusion_2014: boolean (nullable = false)\n",
      " |-- data_exclusion_2015_2021: boolean (nullable = false)\n",
      " |-- data_exclusion_2022_2024: boolean (nullable = false)\n",
      " |-- classification: boolean (nullable = false)\n",
      " |-- data_review: boolean (nullable = false)\n",
      " |-- region_codes: boolean (nullable = false)\n",
      "\n"
     ]
    }
   ],
   "source": [
    "df.printSchema()"
   ]
  },
  {
   "cell_type": "markdown",
   "metadata": {},
   "source": [
    "## Save Data"
   ]
  },
  {
   "cell_type": "code",
   "execution_count": 21,
   "metadata": {},
   "outputs": [],
   "source": [
    "df.write.option(\"header\", True).option(\"delimiter\", \",\").csv(\n",
    "    parent_dir + \"data/processed/ukraine_price_dataset.csv\"\n",
    ")"
   ]
  },
  {
   "cell_type": "code",
   "execution_count": 23,
   "metadata": {},
   "outputs": [
    {
     "name": "stdout",
     "output_type": "stream",
     "text": [
      "+-----------------------------------------+\n",
      "|indicator                                |\n",
      "+-----------------------------------------+\n",
      "|Індекс споживчих цін                     |\n",
      "|Базовий індекс споживчих цін             |\n",
      "|Середні споживчі ціни на товари (послуги)|\n",
      "+-----------------------------------------+\n",
      "\n"
     ]
    }
   ],
   "source": [
    "unique_values = df.select('indicator').distinct()\n",
    "unique_values.show(truncate=False)"
   ]
  },
  {
   "cell_type": "markdown",
   "metadata": {},
   "source": [
    "Індекс споживчих цін (ІСЦ): Характеризує зміни у часі загального рівня цін на товари та послуги, які купує населення для невиробничого споживання.\n",
    "\n",
    "Базовий індекс споживчих цін (БІСЦ): Вимірює інфляцію, виключаючи волатильні категорії, такі як харчові продукти та енергоносії.\n",
    "\n",
    "Середні споживчі ціни на товари (послуги): Відображає середній рівень цін у різних секторах економіки, таких як житло та транспорт."
   ]
  },
  {
   "cell_type": "code",
   "execution_count": 24,
   "metadata": {},
   "outputs": [],
   "source": [
    "df_cpi = df.filter(df['indicator'] == \"Індекс споживчих цін\")\n",
    "df_bcpi = df.filter(\n",
    "    df['indicator'] == \"Базовий індекс споживчих цін\"\n",
    ")\n",
    "df_acpg = df.filter(\n",
    "    df['indicator'] == \"Середні споживчі ціни на товари (послуги)\"\n",
    ")"
   ]
  },
  {
   "cell_type": "code",
   "execution_count": 25,
   "metadata": {},
   "outputs": [],
   "source": [
    "df_cpi.write.option(\"header\", True).option(\"delimiter\", \",\").csv(\n",
    "    parent_dir + \"data/processed/splited_data/index_consuming_prices.csv\"\n",
    ")"
   ]
  },
  {
   "cell_type": "code",
   "execution_count": 26,
   "metadata": {},
   "outputs": [],
   "source": [
    "df_bcpi.write.option(\"header\", True).option(\"delimiter\", \",\").csv(\n",
    "    parent_dir + \"data/processed/splited_data/base_index_consuming_prices.csv\"\n",
    ")"
   ]
  },
  {
   "cell_type": "code",
   "execution_count": 27,
   "metadata": {},
   "outputs": [],
   "source": [
    "df_acpg.write.option(\"header\", True).option(\"delimiter\", \",\").csv(\n",
    "    parent_dir + \"data/processed/splited_data/average_consuming_goods_prices.csv\"\n",
    ")"
   ]
  },
  {
   "cell_type": "markdown",
   "metadata": {},
   "source": [
    "# USD to UAH Dataset"
   ]
  },
  {
   "cell_type": "code",
   "execution_count": 3,
   "metadata": {},
   "outputs": [],
   "source": [
    "from data.schema import STOCK_PRICE_SCHEMA,STOCK_PRICE_COLUMNS\n",
    "\n",
    "csv_file_path = parent_dir + \"data/raw/usd_uah_currency.csv\"\n",
    "\n",
    "df = (\n",
    "    spark.read.format(\"csv\")\n",
    "    .option(\"header\", \"true\")\n",
    "    .schema(STOCK_PRICE_SCHEMA)\n",
    "    .load(csv_file_path)\n",
    ")"
   ]
  },
  {
   "cell_type": "code",
   "execution_count": 4,
   "metadata": {},
   "outputs": [
    {
     "name": "stdout",
     "output_type": "stream",
     "text": [
      "+----------+-------+-------+-------+-------+----+--------+\n",
      "|      Date|  Price|   Open|   High|    Low|Vol.|Change %|\n",
      "+----------+-------+-------+-------+-------+----+--------+\n",
      "|10/01/2024|41.3097|41.2118|41.4322|41.1114|NULL|   0.51%|\n",
      "|09/01/2024|   41.1|  41.15| 41.583|40.8925|NULL|   0.24%|\n",
      "|08/01/2024|   41.0|  41.05|41.5253| 40.441|NULL|   0.24%|\n",
      "|07/01/2024|   40.9|  40.55|41.7096|40.3965|NULL|   1.24%|\n",
      "|06/01/2024|   40.4|  40.65|40.8663|40.0075|NULL|  -0.25%|\n",
      "+----------+-------+-------+-------+-------+----+--------+\n",
      "only showing top 5 rows\n",
      "\n"
     ]
    }
   ],
   "source": [
    "df.show(5)"
   ]
  },
  {
   "cell_type": "code",
   "execution_count": 5,
   "metadata": {},
   "outputs": [
    {
     "name": "stdout",
     "output_type": "stream",
     "text": [
      "root\n",
      " |-- Date: string (nullable = true)\n",
      " |-- Price: float (nullable = true)\n",
      " |-- Open: float (nullable = true)\n",
      " |-- High: float (nullable = true)\n",
      " |-- Low: float (nullable = true)\n",
      " |-- Vol.: string (nullable = true)\n",
      " |-- Change %: string (nullable = true)\n",
      "\n"
     ]
    }
   ],
   "source": [
    "df.printSchema()"
   ]
  },
  {
   "cell_type": "code",
   "execution_count": 6,
   "metadata": {},
   "outputs": [],
   "source": [
    "df = df.drop(STOCK_PRICE_COLUMNS.VOLUME)"
   ]
  },
  {
   "cell_type": "code",
   "execution_count": 7,
   "metadata": {},
   "outputs": [
    {
     "name": "stdout",
     "output_type": "stream",
     "text": [
      "root\n",
      " |-- Date: string (nullable = true)\n",
      " |-- Price: float (nullable = true)\n",
      " |-- Open: float (nullable = true)\n",
      " |-- High: float (nullable = true)\n",
      " |-- Low: float (nullable = true)\n",
      " |-- Change %: string (nullable = true)\n",
      "\n"
     ]
    }
   ],
   "source": [
    "df.printSchema()"
   ]
  },
  {
   "cell_type": "code",
   "execution_count": 9,
   "metadata": {},
   "outputs": [],
   "source": [
    "df.write.option(\"header\", True).option(\"delimiter\", \",\").csv(\n",
    "    parent_dir + \"data/processed/usd_uah_currency.csv\"\n",
    ")"
   ]
  }
 ],
 "metadata": {
  "kernelspec": {
   "display_name": ".venv",
   "language": "python",
   "name": "python3"
  },
  "language_info": {
   "codemirror_mode": {
    "name": "ipython",
    "version": 3
   },
   "file_extension": ".py",
   "mimetype": "text/x-python",
   "name": "python",
   "nbconvert_exporter": "python",
   "pygments_lexer": "ipython3",
   "version": "3.10.11"
  }
 },
 "nbformat": 4,
 "nbformat_minor": 2
}
